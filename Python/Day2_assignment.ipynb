{
 "cells": [
  {
   "cell_type": "markdown",
   "id": "5c48220b",
   "metadata": {},
   "source": [
    "1) define 3 functions \"add()\",\"modify()\" and \"delete()\" with just a print message.\n",
    "now accept input from user as a number. if the number entered is 1, call \"add()\"\n",
    "if it is 2, call \"modify()\" if it is 3, call \"delete()\" [ hint: use \"match... case\" ]\n",
    " "
   ]
  },
  {
   "cell_type": "code",
   "execution_count": 2,
   "id": "c216d6ff",
   "metadata": {},
   "outputs": [
    {
     "name": "stdout",
     "output_type": "stream",
     "text": [
      "enter 1 or 2 or 3 : 3\n",
      "delete\n"
     ]
    }
   ],
   "source": [
    "def add():\n",
    "    print(\"add\")\n",
    "def modify():\n",
    "    print(\"modify\")\n",
    "def delete():\n",
    "    print(\"delete\")\n",
    "num=int(input(\"enter 1 or 2 or 3 : \"))\n",
    "match num:\n",
    "    case 1:\n",
    "        add()\n",
    "    case 2:\n",
    "        modify()\n",
    "    case 3:\n",
    "        delete()"
   ]
  },
  {
   "cell_type": "markdown",
   "id": "efbcc512",
   "metadata": {},
   "source": [
    "2) define a function which accepts a number and return its square."
   ]
  },
  {
   "cell_type": "code",
   "execution_count": 3,
   "id": "2e64ffec",
   "metadata": {},
   "outputs": [
    {
     "name": "stdout",
     "output_type": "stream",
     "text": [
      "4\n"
     ]
    }
   ],
   "source": [
    "def square(ch):\n",
    "    print(ch*ch)\n",
    "square(2)"
   ]
  },
  {
   "cell_type": "markdown",
   "id": "832b9dfc",
   "metadata": {},
   "source": [
    "3) define a function which accepts character,int,string and display them."
   ]
  },
  {
   "cell_type": "code",
   "execution_count": 4,
   "id": "7bcd78e3",
   "metadata": {},
   "outputs": [
    {
     "name": "stdout",
     "output_type": "stream",
     "text": [
      "A\n",
      "12\n",
      "Bhagya\n"
     ]
    }
   ],
   "source": [
    "def display(*var):\n",
    "    for i in var:\n",
    "        print(i)\n",
    "display(\"A\",12,\"Bhagya\")"
   ]
  },
  {
   "cell_type": "markdown",
   "id": "e90a10e5",
   "metadata": {},
   "source": [
    "4) define \"myfun1()\" with a print statement. now define \"myfun2()\" which should invoke \"myfun1()\" function. \n",
    "invoke myfun2()"
   ]
  },
  {
   "cell_type": "code",
   "execution_count": 5,
   "id": "c5acb9a1",
   "metadata": {},
   "outputs": [
    {
     "name": "stdout",
     "output_type": "stream",
     "text": [
      "myfun1\n"
     ]
    }
   ],
   "source": [
    "def myfun1():\n",
    "    print(\"myfun1\")\n",
    "def myfun2():\n",
    "    myfun1()\n",
    "myfun2()"
   ]
  },
  {
   "cell_type": "markdown",
   "id": "bf497a8a",
   "metadata": {},
   "source": [
    "5) define a function to accept a number. This function should return 1 if a number passed is more than 0\n",
    "return -1 if a number passed is less than 0 , else it should return 0."
   ]
  },
  {
   "cell_type": "code",
   "execution_count": 6,
   "id": "697d33b5",
   "metadata": {},
   "outputs": [
    {
     "name": "stdout",
     "output_type": "stream",
     "text": [
      "1\n"
     ]
    }
   ],
   "source": [
    "def fun():\n",
    "    num=3\n",
    "    if (num>0):\n",
    "        return 1\n",
    "    elif (num<0):\n",
    "        return -1\n",
    "    else:\n",
    "        return 0\n",
    "print(fun())"
   ]
  },
  {
   "cell_type": "markdown",
   "id": "b81bbaca",
   "metadata": {},
   "source": [
    "6) define a function which accepts a character and return toggle of it. \n"
   ]
  },
  {
   "cell_type": "code",
   "execution_count": 7,
   "id": "0981b1c6",
   "metadata": {},
   "outputs": [
    {
     "name": "stdout",
     "output_type": "stream",
     "text": [
      "Enter a char :BhgGa\n",
      "bHGgA"
     ]
    }
   ],
   "source": [
    "def num():\n",
    "    a=input(\"Enter a char :\")\n",
    "\n",
    "    for i in a:\n",
    "        if i.isupper():\n",
    "            a=i.lower()\n",
    "        else:\n",
    "            a=i.upper()\n",
    "        print(a,end=\"\")\n",
    "num()\n"
   ]
  },
  {
   "cell_type": "markdown",
   "id": "ef1277d6",
   "metadata": {},
   "source": [
    "7) define a function which accepts a string , toggle and return it.\n",
    "\t[ hint :  use \"swapcase()\" function of string ]"
   ]
  },
  {
   "cell_type": "code",
   "execution_count": 8,
   "id": "4057220c",
   "metadata": {},
   "outputs": [
    {
     "name": "stdout",
     "output_type": "stream",
     "text": [
      "ZyD\n"
     ]
    }
   ],
   "source": [
    "def swap():\n",
    "    str=\"zYd\"\n",
    "    str=str.swapcase()\n",
    "    print(str)\n",
    "swap()"
   ]
  },
  {
   "cell_type": "markdown",
   "id": "467ed9db",
   "metadata": {},
   "source": [
    "8) write a function to accept minimum 3 characters and maximum 5 characters. \n",
    " \t[ use default arguments method ]\n"
   ]
  },
  {
   "cell_type": "code",
   "execution_count": 9,
   "id": "6dea42eb",
   "metadata": {},
   "outputs": [
    {
     "name": "stdout",
     "output_type": "stream",
     "text": [
      "Enter a string : bhagya\n",
      "length is Not between 3 and 5\n"
     ]
    }
   ],
   "source": [
    "def accept():\n",
    "    num=input(\"Enter a string : \")\n",
    "\n",
    "    if (num.__len__()>=3 and num.__len__()<=5):\n",
    "        print(\"String is\",num)\n",
    "    else:\n",
    "        print(\"length is Not between 3 and 5\")\n",
    "accept()"
   ]
  },
  {
   "cell_type": "markdown",
   "id": "41103143",
   "metadata": {},
   "source": [
    "9) define a function in such a way that it can accept n number of values and print their sum. [ variable number of arguments]\n"
   ]
  },
  {
   "cell_type": "code",
   "execution_count": 10,
   "id": "7b324b67",
   "metadata": {},
   "outputs": [
    {
     "name": "stdout",
     "output_type": "stream",
     "text": [
      "26\n"
     ]
    }
   ],
   "source": [
    "def sum(*vars):\n",
    "    total=0\n",
    "    for i in vars:\n",
    "        total+=i\n",
    "    print(total)\n",
    "sum(2,3,8,9,4)"
   ]
  },
  {
   "cell_type": "markdown",
   "id": "258a0755",
   "metadata": {},
   "source": [
    "1) create 3 functions \"show1()\",\"show2()\" and \"show3()\"\n",
    "now define a function \"caller\" in such a way that it can accept any function as an argument and invoke the same.\n",
    "invoke caller function by passing show1,show2 and show3\n"
   ]
  },
  {
   "cell_type": "code",
   "execution_count": 11,
   "id": "32090b88",
   "metadata": {},
   "outputs": [
    {
     "name": "stdout",
     "output_type": "stream",
     "text": [
      "show 1\n",
      "in caller\n"
     ]
    }
   ],
   "source": [
    "def show1():\n",
    "    print(\"show 1\")\n",
    "def show2():\n",
    "    print(\"show 2\")\n",
    "def show3():\n",
    "    print(\"show 3\")\n",
    "\n",
    "def caller(fun):\n",
    "    fun()\n",
    "    print(\"in caller\")\n",
    "\n",
    "caller(show1)"
   ]
  },
  {
   "cell_type": "markdown",
   "id": "77892a4b",
   "metadata": {},
   "source": [
    "2) define nested function and show how will you invoke it.\n"
   ]
  },
  {
   "cell_type": "code",
   "execution_count": 12,
   "id": "083dc538",
   "metadata": {},
   "outputs": [
    {
     "name": "stdout",
     "output_type": "stream",
     "text": [
      "in first function\n",
      "in second function\n"
     ]
    }
   ],
   "source": [
    "def first():\n",
    "    def second():\n",
    "        print(\"in second function\")\n",
    "    print(\"in first function\")\n",
    "    return second()\n",
    "var=first()\n",
    "var"
   ]
  },
  {
   "cell_type": "code",
   "execution_count": null,
   "id": "c3c5161f",
   "metadata": {},
   "outputs": [],
   "source": []
  }
 ],
 "metadata": {
  "kernelspec": {
   "display_name": "Python 3 (ipykernel)",
   "language": "python",
   "name": "python3"
  },
  "language_info": {
   "codemirror_mode": {
    "name": "ipython",
    "version": 3
   },
   "file_extension": ".py",
   "mimetype": "text/x-python",
   "name": "python",
   "nbconvert_exporter": "python",
   "pygments_lexer": "ipython3",
   "version": "3.11.5"
  }
 },
 "nbformat": 4,
 "nbformat_minor": 5
}
